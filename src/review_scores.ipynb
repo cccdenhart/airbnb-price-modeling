{
 "cells": [
  {
   "cell_type": "markdown",
   "metadata": {},
   "source": [
    "# Predict Review Scores\n",
    "Here, I try to predict the average review score of a listing using linear regressions and a radial SVR"
   ]
  },
  {
   "cell_type": "markdown",
   "metadata": {},
   "source": [
    "## Import packages and load in data"
   ]
  },
  {
   "cell_type": "code",
   "execution_count": 1,
   "metadata": {},
   "outputs": [],
   "source": [
    "import numpy as np\n",
    "import pandas as pd\n",
    "from pathlib import Path\n",
    "from sklearn.metrics import accuracy_score\n",
    "from sklearn.model_selection import train_test_split\n",
    "from sklearn.decomposition import PCA\n",
    "from sklearn.preprocessing import normalize\n",
    "from sklearn.linear_model import LinearRegression, Ridge\n",
    "from sklearn.svm import SVR\n",
    "from sklearn.metrics import explained_variance_score, mean_squared_error, r2_score\n",
    "import seaborn as sns\n",
    "import math\n",
    "pd.options.display.max_columns = 100\n",
    "pd.options.display.max_rows = 1000"
   ]
  },
  {
   "cell_type": "code",
   "execution_count": 2,
   "metadata": {},
   "outputs": [],
   "source": [
    "# import data\n",
    "dir = str(Path().resolve())\n",
    "df = pd.read_csv(dir + \"/../data/listings.csv\")"
   ]
  },
  {
   "cell_type": "markdown",
   "metadata": {},
   "source": [
    "## Prepare data"
   ]
  },
  {
   "cell_type": "code",
   "execution_count": 3,
   "metadata": {},
   "outputs": [],
   "source": [
    "# average all reviews to generate average_score feature and drop excess review features for fair prediction\n",
    "df['average_score'] = (df.review_scores_accuracy + df.review_scores_checkin + df.review_scores_cleanliness + df.review_scores_communication + df.review_scores_location + df.review_scores_value) / 6\n",
    "df = df.drop(['review_scores_accuracy', 'review_scores_checkin', 'review_scores_cleanliness', 'review_scores_communication', 'review_scores_location', 'review_scores_value', 'reviews_per_month', 'review_scores_rating'], axis=1)"
   ]
  },
  {
   "cell_type": "code",
   "execution_count": 4,
   "metadata": {},
   "outputs": [],
   "source": [
    "# split into X and Y\n",
    "X = df.drop('average_score', axis=1)\n",
    "y = df['average_score']\n",
    "\n",
    "# convert objects to dummy variables\n",
    "X = pd.get_dummies(X)\n",
    "\n",
    "# split into training and testing data\n",
    "X_train, X_test, y_train, y_test = train_test_split(X, y)"
   ]
  },
  {
   "cell_type": "markdown",
   "metadata": {},
   "source": [
    "## Train models"
   ]
  },
  {
   "cell_type": "code",
   "execution_count": 5,
   "metadata": {},
   "outputs": [
    {
     "name": "stdout",
     "output_type": "stream",
     "text": [
      "Training linear regression...\n",
      "Training linear reg with ridge regularization\n",
      "Training radial kernel SVR...\n"
     ]
    },
    {
     "name": "stderr",
     "output_type": "stream",
     "text": [
      "/Users/cccdenhart/miniconda3/lib/python3.7/site-packages/sklearn/linear_model/ridge.py:125: LinAlgWarning: scipy.linalg.solve\n",
      "Ill-conditioned matrix detected. Result is not guaranteed to be accurate.\n",
      "Reciprocal condition number3.765920e-19\n",
      "  overwrite_a=True).T\n"
     ]
    },
    {
     "name": "stdout",
     "output_type": "stream",
     "text": [
      "Done\n"
     ]
    }
   ],
   "source": [
    "# NOTE: takes a long time\n",
    "# train models\n",
    "print(\"Training linear regression...\")\n",
    "lm = LinearRegression().fit(X_train, y_train)\n",
    "print(\"Training linear reg with ridge regularization\")\n",
    "reg = Ridge(alpha=.5).fit(X_train, y_train)\n",
    "print(\"Training radial kernel SVR...\")\n",
    "rad = SVR(gamma=\"auto\", kernel=\"rbf\").fit(X_train, y_train)\n",
    "print(\"Done\")"
   ]
  },
  {
   "cell_type": "code",
   "execution_count": 6,
   "metadata": {},
   "outputs": [
    {
     "name": "stdout",
     "output_type": "stream",
     "text": [
      "Generating predictions...\n",
      "Done\n"
     ]
    }
   ],
   "source": [
    "# get predictions\n",
    "print(\"Generating predictions...\")\n",
    "lm_pred = lm.predict(X_test)\n",
    "reg_pred = reg.predict(X_test)\n",
    "rad_pred = rad.predict(X_test)\n",
    "print(\"Done\")"
   ]
  },
  {
   "cell_type": "markdown",
   "metadata": {},
   "source": [
    "## View results"
   ]
  },
  {
   "cell_type": "code",
   "execution_count": 7,
   "metadata": {},
   "outputs": [
    {
     "name": "stdout",
     "output_type": "stream",
     "text": [
      "Linear Model Results:\n",
      "Explained Variance: 0.1434287737138703\n",
      "MSE: 0.34507206786518557\n",
      "R2: 0.1430113908638756\n",
      "\n",
      "Ridge Regularization Results:\n",
      "Explained Variance: 0.14379407926425725\n",
      "MSE: 0.3449246444374958\n",
      "R2: 0.14337751785593122\n",
      "\n",
      "Linear Model with Regularization:\n",
      "Radial Kernel SVR Results:\n",
      "Explained Variance: 0.2965080758246498\n",
      "MSE: 0.28368482487039837\n",
      "R2: 0.29546698751146394\n"
     ]
    }
   ],
   "source": [
    "# display evaluations\n",
    "print(\"Linear Model Results:\")\n",
    "print(\"Explained Variance: \" + str(explained_variance_score(y_test, lm_pred)))\n",
    "print(\"MSE: \" + str(mean_squared_error(y_test, lm_pred)))\n",
    "print(\"R2: \" + str(r2_score(y_test, lm_pred)))\n",
    "print()\n",
    "# display evaluations\n",
    "print(\"Ridge Regularization Results:\")\n",
    "print(\"Explained Variance: \" + str(explained_variance_score(y_test, reg_pred)))\n",
    "print(\"MSE: \" + str(mean_squared_error(y_test, reg_pred)))\n",
    "print(\"R2: \" + str(r2_score(y_test, reg_pred)))\n",
    "print()\n",
    "print(\"Linear Model with Regularization:\")\n",
    "print(\"Radial Kernel SVR Results:\")\n",
    "print(\"Explained Variance: \" + str(explained_variance_score(y_test, rad_pred)))\n",
    "print(\"MSE: \" + str(mean_squared_error(y_test, rad_pred)))\n",
    "print(\"R2: \" + str(r2_score(y_test, rad_pred)))"
   ]
  },
  {
   "cell_type": "markdown",
   "metadata": {},
   "source": [
    "## Discussion\n",
    "\n",
    "### Why are results so bad?\n",
    "* Large left skew (histogram 1)\n",
    "* Tried applying log transform to data --> still large skew (histogram 2)"
   ]
  },
  {
   "cell_type": "code",
   "execution_count": 10,
   "metadata": {},
   "outputs": [
    {
     "name": "stderr",
     "output_type": "stream",
     "text": [
      "/Users/cccdenhart/miniconda3/lib/python3.7/site-packages/scipy/stats/stats.py:1713: FutureWarning: Using a non-tuple sequence for multidimensional indexing is deprecated; use `arr[tuple(seq)]` instead of `arr[seq]`. In the future this will be interpreted as an array index, `arr[np.array(seq)]`, which will result either in an error or a different result.\n",
      "  return np.add.reduce(sorted[indexer] * weights, axis=axis) / sumval\n"
     ]
    },
    {
     "data": {
      "text/plain": [
       "<matplotlib.axes._subplots.AxesSubplot at 0x1c22b58470>"
      ]
     },
     "execution_count": 10,
     "metadata": {},
     "output_type": "execute_result"
    },
    {
     "data": {
      "image/png": "[encoded data removed]",
      "text/plain": [
       "<Figure size 432x288 with 1 Axes>"
      ]
     },
     "metadata": {
      "needs_background": "light"
     },
     "output_type": "display_data"
    }
   ],
   "source": [
    "sns.distplot(df.average_score)"
   ]
  },
  {
   "cell_type": "code",
   "execution_count": 12,
   "metadata": {},
   "outputs": [
    {
     "data": {
      "text/plain": [
       "<matplotlib.axes._subplots.AxesSubplot at 0x1c26871978>"
      ]
     },
     "execution_count": 12,
     "metadata": {},
     "output_type": "execute_result"
    },
    {
     "data": {
      "image/png": "[encoded data removed]",
      "text/plain": [
       "<Figure size 432x288 with 1 Axes>"
      ]
     },
     "metadata": {
      "needs_background": "light"
     },
     "output_type": "display_data"
    }
   ],
   "source": [
    "sns.distplot(df.average_score.apply(math.log))"
   ]
  }
 ],
 "metadata": {
  "kernelspec": {
   "display_name": "Python 3",
   "language": "python",
   "name": "python3"
  },
  "language_info": {
   "codemirror_mode": {
    "name": "ipython",
    "version": 3
   },
   "file_extension": ".py",
   "mimetype": "text/x-python",
   "name": "python",
   "nbconvert_exporter": "python",
   "pygments_lexer": "ipython3",
   "version": "3.7.0"
  }
 },
 "nbformat": 4,
 "nbformat_minor": 2
}
