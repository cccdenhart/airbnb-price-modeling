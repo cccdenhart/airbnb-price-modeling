{
 "cells": [
  {
   "cell_type": "markdown",
   "metadata": {},
   "source": [
    "# Predict Host Professional Status\n",
    "In this section, I attempt to predict whether a host is a professional or not.  Note that a host is considered professional if they list more than one unit on Airbnb, as justified by [previous literature](https://pdfs.semanticscholar.org/9cb2/e1ad853d8cec5cb2ccd6eb3df951aa2733ac.pdf?_ga=2.138786736.2078325923.1544210414-456397272.1544210414).\n",
    "\n",
    "Logistic regression, a decision tree, and AdaBoost are all used to classfiy host status. "
   ]
  },
  {
   "cell_type": "markdown",
   "metadata": {},
   "source": [
    "## Import packages and load data"
   ]
  },
  {
   "cell_type": "code",
   "execution_count": 1,
   "metadata": {},
   "outputs": [],
   "source": [
    "import numpy as np\n",
    "import pandas as pd\n",
    "from pathlib import Path\n",
    "from sklearn.metrics import accuracy_score, precision_score, recall_score, roc_auc_score\n",
    "from sklearn.linear_model import LogisticRegression\n",
    "from sklearn.tree import DecisionTreeClassifier\n",
    "from sklearn.ensemble import AdaBoostClassifier\n",
    "from sklearn.model_selection import train_test_split\n",
    "import seaborn as sns\n",
    "pd.options.display.max_columns = 100\n",
    "pd.options.display.max_rows = 1000"
   ]
  },
  {
   "cell_type": "code",
   "execution_count": 2,
   "metadata": {},
   "outputs": [],
   "source": [
    "# import data\n",
    "dir = str(Path().resolve())\n",
    "df = pd.read_csv(dir + \"/../data/listings.csv\")"
   ]
  },
  {
   "cell_type": "markdown",
   "metadata": {},
   "source": [
    "## Prepare data"
   ]
  },
  {
   "cell_type": "code",
   "execution_count": 3,
   "metadata": {},
   "outputs": [],
   "source": [
    "# split into X and y\n",
    "X = df.drop('is_professional', axis=1)\n",
    "y = df['is_professional']\n",
    "\n",
    "# drop host listing count\n",
    "X = X.drop(['calculated_host_listings_count', 'host_total_listings_count', 'host_listings_count'], axis=1)\n",
    "\n",
    "# get dummies\n",
    "X = pd.get_dummies(X)\n",
    "\n",
    "# split into train and test\n",
    "X_train, X_test, y_train, y_test = train_test_split(X, y)"
   ]
  },
  {
   "cell_type": "markdown",
   "metadata": {},
   "source": [
    "## Train models"
   ]
  },
  {
   "cell_type": "code",
   "execution_count": 4,
   "metadata": {},
   "outputs": [
    {
     "name": "stdout",
     "output_type": "stream",
     "text": [
      "Training logistic regression...\n"
     ]
    },
    {
     "name": "stderr",
     "output_type": "stream",
     "text": [
      "/Users/cccdenhart/miniconda3/lib/python3.7/site-packages/sklearn/linear_model/logistic.py:432: FutureWarning: Default solver will be changed to 'lbfgs' in 0.22. Specify a solver to silence this warning.\n",
      "  FutureWarning)\n"
     ]
    },
    {
     "name": "stdout",
     "output_type": "stream",
     "text": [
      "Training decision tree...\n",
      "Training AdaBoost...\n",
      "Done\n"
     ]
    }
   ],
   "source": [
    "# train models\n",
    "print(\"Training logistic regression...\")\n",
    "log = LogisticRegression().fit(X_train, y_train)\n",
    "print(\"Training decision tree...\")\n",
    "dec = DecisionTreeClassifier().fit(X_train, y_train)\n",
    "print(\"Training AdaBoost...\")\n",
    "ada = AdaBoostClassifier(n_estimators=50).fit(X_train, y_train)\n",
    "print(\"Done\")"
   ]
  },
  {
   "cell_type": "code",
   "execution_count": 5,
   "metadata": {},
   "outputs": [
    {
     "name": "stdout",
     "output_type": "stream",
     "text": [
      "Getting predictions...\n",
      "Done\n"
     ]
    }
   ],
   "source": [
    "# get predictions\n",
    "print(\"Getting predictions...\")\n",
    "log_pred = log.predict(X_test)\n",
    "dec_pred = dec.predict(X_test)\n",
    "ada_pred = ada.predict(X_test)\n",
    "# add in adaboost\n",
    "print(\"Done\")"
   ]
  },
  {
   "cell_type": "markdown",
   "metadata": {},
   "source": [
    "## View results"
   ]
  },
  {
   "cell_type": "code",
   "execution_count": 6,
   "metadata": {},
   "outputs": [
    {
     "name": "stdout",
     "output_type": "stream",
     "text": [
      "Logistic Regression Results:\n",
      "accuracy: 0.7376577728071577\n",
      "precision: 0.7376577728071577\n",
      "recall: 1.0\n",
      "auc: 0.5\n",
      "\n",
      "Decision Tree Results:\n",
      "accuracy: 0.9012621824572615\n",
      "precision: 0.9277005347593583\n",
      "recall: 0.9393545592376001\n",
      "auc: 0.8667540153069851\n",
      "\n",
      "AdaBoost Results:\n",
      "accuracy: 0.8041220642275124\n",
      "precision: 0.8370105346849533\n",
      "recall: 0.9120641108945202\n",
      "auc: 0.7063365621464075\n"
     ]
    }
   ],
   "source": [
    "# display performance metrics\n",
    "print(\"Logistic Regression Results:\")\n",
    "print(\"accuracy: \" + str(accuracy_score(y_test, log_pred)))\n",
    "print(\"precision: \" + str(precision_score(y_test, log_pred)))\n",
    "print(\"recall: \" + str(recall_score(y_test, log_pred)))\n",
    "print(\"auc: \" + str(roc_auc_score(y_test, log_pred)))\n",
    "print()\n",
    "print(\"Decision Tree Results:\")\n",
    "print(\"accuracy: \" + str(accuracy_score(y_test, dec_pred)))\n",
    "print(\"precision: \" + str(precision_score(y_test, dec_pred)))\n",
    "print(\"recall: \" + str(recall_score(y_test, dec_pred)))\n",
    "print(\"auc: \" + str(roc_auc_score(y_test, dec_pred)))\n",
    "print()\n",
    "print(\"AdaBoost Results:\")\n",
    "print(\"accuracy: \" + str(accuracy_score(y_test, ada_pred)))\n",
    "print(\"precision: \" + str(precision_score(y_test, ada_pred)))\n",
    "print(\"recall: \" + str(recall_score(y_test, ada_pred)))\n",
    "print(\"auc: \" + str(roc_auc_score(y_test, ada_pred)))"
   ]
  },
  {
   "cell_type": "markdown",
   "metadata": {},
   "source": [
    "## Discussion\n",
    "\n",
    "### Why are Logistic Reg results odd?\n",
    "* All prediction probabilities are > .5"
   ]
  },
  {
   "cell_type": "code",
   "execution_count": 41,
   "metadata": {},
   "outputs": [
    {
     "name": "stderr",
     "output_type": "stream",
     "text": [
      "/Users/cccdenhart/miniconda3/lib/python3.7/site-packages/scipy/stats/stats.py:1713: FutureWarning: Using a non-tuple sequence for multidimensional indexing is deprecated; use `arr[tuple(seq)]` instead of `arr[seq]`. In the future this will be interpreted as an array index, `arr[np.array(seq)]`, which will result either in an error or a different result.\n",
      "  return np.add.reduce(sorted[indexer] * weights, axis=axis) / sumval\n"
     ]
    },
    {
     "data": {
      "text/plain": [
       "<matplotlib.axes._subplots.AxesSubplot at 0x1a2b05be10>"
      ]
     },
     "execution_count": 41,
     "metadata": {},
     "output_type": "execute_result"
    },
    {
     "data": {
      "image/png": "[encoded data removed]",
      "text/plain": [
       "<Figure size 432x288 with 1 Axes>"
      ]
     },
     "metadata": {
      "needs_background": "light"
     },
     "output_type": "display_data"
    }
   ],
   "source": [
    "probs = list(map(lambda x: x[1], log.predict_proba(X_test)))\n",
    "sns.distplot(probs)"
   ]
  }
 ],
 "metadata": {
  "kernelspec": {
   "display_name": "Python 3",
   "language": "python",
   "name": "python3"
  },
  "language_info": {
   "codemirror_mode": {
    "name": "ipython",
    "version": 3
   },
   "file_extension": ".py",
   "mimetype": "text/x-python",
   "name": "python",
   "nbconvert_exporter": "python",
   "pygments_lexer": "ipython3",
   "version": "3.7.0"
  }
 },
 "nbformat": 4,
 "nbformat_minor": 2
}
