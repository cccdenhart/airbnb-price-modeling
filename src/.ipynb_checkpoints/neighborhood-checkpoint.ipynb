{
 "cells": [
  {
   "cell_type": "markdown",
   "metadata": {},
   "source": [
    "# Neighborhood prediction\n",
    "In this section, the neighborhood of a given listing is predicted using KNN, Naive-Bayes, and a random forest."
   ]
  },
  {
   "cell_type": "markdown",
   "metadata": {},
   "source": [
    "## Import packages and read in data"
   ]
  },
  {
   "cell_type": "code",
   "execution_count": 2,
   "metadata": {},
   "outputs": [],
   "source": [
    "import numpy as np\n",
    "import pandas as pd\n",
    "from pathlib import Path\n",
    "from sklearn.metrics import accuracy_score, precision_score, recall_score, roc_auc_score\n",
    "from sklearn.preprocessing import LabelEncoder\n",
    "from sklearn.neighbors import KNeighborsClassifier\n",
    "from sklearn.naive_bayes import GaussianNB\n",
    "from sklearn.ensemble import RandomForestClassifier\n",
    "from sklearn.model_selection import train_test_split\n",
    "import math\n",
    "import seaborn as sns\n",
    "pd.options.display.max_columns = 100\n",
    "pd.options.display.max_rows = 1000"
   ]
  },
  {
   "cell_type": "code",
   "execution_count": 3,
   "metadata": {},
   "outputs": [],
   "source": [
    "# import data\n",
    "dir = str(Path().resolve())\n",
    "df = pd.read_csv(dir + \"/../data/listings.csv\")"
   ]
  },
  {
   "cell_type": "markdown",
   "metadata": {},
   "source": [
    "## Prepare data"
   ]
  },
  {
   "cell_type": "code",
   "execution_count": 4,
   "metadata": {},
   "outputs": [],
   "source": [
    "# split into X and y\n",
    "X = df.drop('neighbourhood_cleansed', axis=1)\n",
    "y = LabelEncoder().fit_transform(df['neighbourhood_cleansed'])\n",
    "\n",
    "# get dummies\n",
    "X = pd.get_dummies(X)\n",
    "\n",
    "# split into train and test\n",
    "X_train, X_test, y_train, y_test = train_test_split(X, y)"
   ]
  },
  {
   "cell_type": "markdown",
   "metadata": {},
   "source": [
    "## Train models"
   ]
  },
  {
   "cell_type": "code",
   "execution_count": 52,
   "metadata": {},
   "outputs": [
    {
     "name": "stdout",
     "output_type": "stream",
     "text": [
      "Training KNN...\n",
      "Training decision tree...\n",
      "Training random forest...\n",
      "Done\n"
     ]
    }
   ],
   "source": [
    "# train models\n",
    "print(\"Training KNN...\")\n",
    "knn = KNeighborsClassifier(n_neighbors=5).fit(X_train, y_train)\n",
    "print(\"Training decision tree...\")\n",
    "nb = GaussianNB().fit(X_train, y_train)\n",
    "print(\"Training random forest...\")\n",
    "rf = RandomForestClassifier(n_estimators=int(math.sqrt(X.shape[1])), max_depth=10).fit(X_train, y_train)\n",
    "print(\"Done\")"
   ]
  },
  {
   "cell_type": "code",
   "execution_count": 53,
   "metadata": {},
   "outputs": [
    {
     "name": "stdout",
     "output_type": "stream",
     "text": [
      "Generating predictions...\n",
      "Done\n"
     ]
    }
   ],
   "source": [
    "# get predictions\n",
    "print(\"Generating predictions...\")\n",
    "knn_pred = knn.predict(X_test)\n",
    "nb_pred = nb.predict(X_test)\n",
    "rf_pred = rf.predict(X_test)\n",
    "print(\"Done\")"
   ]
  },
  {
   "cell_type": "markdown",
   "metadata": {},
   "source": [
    "## View results"
   ]
  },
  {
   "cell_type": "code",
   "execution_count": 55,
   "metadata": {},
   "outputs": [
    {
     "name": "stdout",
     "output_type": "stream",
     "text": [
      "KNN Results:\n",
      "accuracy: 0.777760025563189\n",
      "precision: 0.7721725205515614\n",
      "recall: 0.7237850559072051\n",
      "\n",
      "Naive Bayes Results:\n",
      "accuracy: 0.11199872184054961\n",
      "precision: 0.05855255442334741\n",
      "recall: 0.07022498947156558\n",
      "\n",
      "Random Forest Results:\n",
      "accuracy: 0.9129253874420834\n",
      "precision: 0.8929981744782387\n",
      "recall: 0.7782661572565764\n"
     ]
    },
    {
     "name": "stderr",
     "output_type": "stream",
     "text": [
      "/Users/cccdenhart/miniconda3/lib/python3.7/site-packages/sklearn/metrics/classification.py:1143: UndefinedMetricWarning: Precision is ill-defined and being set to 0.0 in labels with no predicted samples.\n",
      "  'precision', 'predicted', average, warn_for)\n",
      "/Users/cccdenhart/miniconda3/lib/python3.7/site-packages/sklearn/metrics/classification.py:1143: UndefinedMetricWarning: Precision is ill-defined and being set to 0.0 in labels with no predicted samples.\n",
      "  'precision', 'predicted', average, warn_for)\n"
     ]
    }
   ],
   "source": [
    "# display performance metrics\n",
    "print(\"KNN Results:\")\n",
    "print(\"accuracy: \" + str(accuracy_score(y_test, knn_pred)))\n",
    "print(\"precision: \" + str(precision_score(y_test, knn_pred, average=\"macro\")))\n",
    "print(\"recall: \" + str(recall_score(y_test, knn_pred, average=\"macro\")))\n",
    "# print(\"auc: \" + str(roc_auc_score(y_test, knn_pred)))\n",
    "print()\n",
    "print(\"Naive Bayes Results:\")\n",
    "print(\"accuracy: \" + str(accuracy_score(y_test, nb_pred)))\n",
    "print(\"precision: \" + str(precision_score(y_test, nb_pred, average=\"macro\")))\n",
    "print(\"recall: \" + str(recall_score(y_test, nb_pred, average=\"macro\")))\n",
    "#print(\"auc: \" + str(roc_auc_score(y_test, nb_pred)))\n",
    "print()\n",
    "print(\"Random Forest Results:\")\n",
    "print(\"accuracy: \" + str(accuracy_score(y_test, rf_pred)))\n",
    "print(\"precision: \" + str(precision_score(y_test, rf_pred, average=\"macro\")))\n",
    "print(\"recall: \" + str(recall_score(y_test, rf_pred, average=\"macro\")))\n",
    "#print(\"auc: \" + str(roc_auc_score(y_test, rf_pred)))"
   ]
  }
 ],
 "metadata": {
  "kernelspec": {
   "display_name": "Python 3",
   "language": "python",
   "name": "python3"
  },
  "language_info": {
   "codemirror_mode": {
    "name": "ipython",
    "version": 3
   },
   "file_extension": ".py",
   "mimetype": "text/x-python",
   "name": "python",
   "nbconvert_exporter": "python",
   "pygments_lexer": "ipython3",
   "version": "3.7.0"
  }
 },
 "nbformat": 4,
 "nbformat_minor": 2
}
